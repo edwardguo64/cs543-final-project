{
 "cells": [
  {
   "cell_type": "code",
   "execution_count": 3,
   "id": "6b72e74b",
   "metadata": {},
   "outputs": [
    {
     "data": {
      "application/javascript": [
       "\n",
       "try {\n",
       "require(['notebook/js/codecell'], function(codecell) {\n",
       "  codecell.CodeCell.options_default.highlight_modes[\n",
       "      'magic_text/x-csrc'] = {'reg':[/^%%microblaze/]};\n",
       "  Jupyter.notebook.events.one('kernel_ready.Kernel', function(){\n",
       "      Jupyter.notebook.get_cells().map(function(cell){\n",
       "          if (cell.cell_type == 'code'){ cell.auto_highlight(); } }) ;\n",
       "  });\n",
       "});\n",
       "} catch (e) {};\n"
      ]
     },
     "metadata": {},
     "output_type": "display_data"
    },
    {
     "data": {
      "application/javascript": [
       "\n",
       "try {\n",
       "require(['notebook/js/codecell'], function(codecell) {\n",
       "  codecell.CodeCell.options_default.highlight_modes[\n",
       "      'magic_text/x-csrc'] = {'reg':[/^%%pybind11/]};\n",
       "  Jupyter.notebook.events.one('kernel_ready.Kernel', function(){\n",
       "      Jupyter.notebook.get_cells().map(function(cell){\n",
       "          if (cell.cell_type == 'code'){ cell.auto_highlight(); } }) ;\n",
       "  });\n",
       "});\n",
       "} catch (e) {};\n"
      ]
     },
     "metadata": {},
     "output_type": "display_data"
    }
   ],
   "source": [
    "from pynq import Overlay\n",
    "import struct\n",
    "import numpy as np\n",
    "from pynq import allocate\n",
    "\n",
    "# grabs the bitstream for the overlay\n",
    "ol = Overlay(\"mnist_bd.bit\")"
   ]
  },
  {
   "cell_type": "code",
   "execution_count": 8,
   "id": "802f3003",
   "metadata": {
    "scrolled": false
   },
   "outputs": [
    {
     "name": "stdout",
     "output_type": "stream",
     "text": [
      "Help on Overlay in module pynq.overlay:\n",
      "\n",
      "<pynq.overlay.Overlay object>\n",
      "    Default documentation for overlay mnist_bd.bit. The following\n",
      "    attributes are available on this overlay:\n",
      "    \n",
      "    IP Blocks\n",
      "    ----------\n",
      "    axi_timer_0          : pynq.overlay.DefaultIP\n",
      "    lenet_cnn_0          : pynq.overlay.DefaultIP\n",
      "    processing_system7_0 : pynq.overlay.DefaultIP\n",
      "    \n",
      "    Hierarchies\n",
      "    -----------\n",
      "    None\n",
      "    \n",
      "    Interrupts\n",
      "    ----------\n",
      "    None\n",
      "    \n",
      "    GPIO Outputs\n",
      "    ------------\n",
      "    None\n",
      "    \n",
      "    Memories\n",
      "    ------------\n",
      "    PSDDR                : Memory\n",
      "\n"
     ]
    }
   ],
   "source": [
    "help(ol)"
   ]
  },
  {
   "cell_type": "code",
   "execution_count": 9,
   "id": "4f16ad06",
   "metadata": {
    "scrolled": false
   },
   "outputs": [
    {
     "name": "stdout",
     "output_type": "stream",
     "text": [
      "Help on DefaultIP in module pynq.overlay object:\n",
      "\n",
      "class DefaultIP(builtins.object)\n",
      " |  DefaultIP(description)\n",
      " |  \n",
      " |  Driver for an IP without a more specific driver\n",
      " |  \n",
      " |  This driver wraps an MMIO device and provides a base class\n",
      " |  for more specific drivers written later. It also provides\n",
      " |  access to GPIO outputs and interrupts inputs via attributes. More specific\n",
      " |  drivers should inherit from `DefaultIP` and include a\n",
      " |  `bindto` entry containing all of the IP that the driver\n",
      " |  should bind to. Subclasses meeting these requirements will\n",
      " |  automatically be registered.\n",
      " |  \n",
      " |  Attributes\n",
      " |  ----------\n",
      " |  mmio : pynq.MMIO\n",
      " |      Underlying MMIO driver for the device\n",
      " |  _interrupts : dict\n",
      " |      Subset of the PL.interrupt_pins related to this IP\n",
      " |  _gpio : dict\n",
      " |      Subset of the PL.gpio_dict related to this IP\n",
      " |  \n",
      " |  Methods defined here:\n",
      " |  \n",
      " |  __init__(self, description)\n",
      " |      Initialize self.  See help(type(self)) for accurate signature.\n",
      " |  \n",
      " |  read(self, offset=0)\n",
      " |      Read from the MMIO device\n",
      " |      \n",
      " |      Parameters\n",
      " |      ----------\n",
      " |      offset : int\n",
      " |          Address to read\n",
      " |  \n",
      " |  write(self, offset, value)\n",
      " |      Write to the MMIO device\n",
      " |      \n",
      " |      Parameters\n",
      " |      ----------\n",
      " |      offset : int\n",
      " |          Address to write to\n",
      " |      value : int or bytes\n",
      " |          Data to write\n",
      " |  \n",
      " |  ----------------------------------------------------------------------\n",
      " |  Readonly properties defined here:\n",
      " |  \n",
      " |  register_map\n",
      " |  \n",
      " |  signature\n",
      " |      The signature of the `call` method\n",
      " |  \n",
      " |  ----------------------------------------------------------------------\n",
      " |  Data descriptors defined here:\n",
      " |  \n",
      " |  __dict__\n",
      " |      dictionary for instance variables (if defined)\n",
      " |  \n",
      " |  __weakref__\n",
      " |      list of weak references to the object (if defined)\n",
      "\n"
     ]
    }
   ],
   "source": [
    "# displays the functions that are used to communicate with the IP\n",
    "help(ol.lenet_cnn_0)"
   ]
  },
  {
   "cell_type": "code",
   "execution_count": 33,
   "id": "7f47a583",
   "metadata": {},
   "outputs": [
    {
     "data": {
      "application/json": {
       "access": "read-write",
       "address_offset": 0,
       "description": "Control signals",
       "fields": {
        "AP_DONE": {
         "access": "read-only",
         "bit_offset": 1,
         "bit_width": 1,
         "description": "Control signal Register for 'ap_done'."
        },
        "AP_IDLE": {
         "access": "read-only",
         "bit_offset": 2,
         "bit_width": 1,
         "description": "Control signal Register for 'ap_idle'."
        },
        "AP_READY": {
         "access": "read-only",
         "bit_offset": 3,
         "bit_width": 1,
         "description": "Control signal Register for 'ap_ready'."
        },
        "AP_START": {
         "access": "read-write",
         "bit_offset": 0,
         "bit_width": 1,
         "description": "Control signal Register for 'ap_start'."
        },
        "AUTO_RESTART": {
         "access": "read-write",
         "bit_offset": 7,
         "bit_width": 1,
         "description": "Control signal Register for 'auto_restart'."
        },
        "RESERVED_1": {
         "access": "read-only",
         "bit_offset": 4,
         "bit_width": 3,
         "description": "Reserved.  0s on read."
        },
        "RESERVED_2": {
         "access": "read-only",
         "bit_offset": 8,
         "bit_width": 24,
         "description": "Reserved.  0s on read."
        }
       },
       "size": 32
      },
      "text/plain": [
       "{'address_offset': 0,\n",
       " 'size': 32,\n",
       " 'access': 'read-write',\n",
       " 'description': 'Control signals',\n",
       " 'fields': {'AP_START': {'bit_offset': 0,\n",
       "   'bit_width': 1,\n",
       "   'access': 'read-write',\n",
       "   'description': \"Control signal Register for 'ap_start'.\"},\n",
       "  'AP_DONE': {'bit_offset': 1,\n",
       "   'bit_width': 1,\n",
       "   'access': 'read-only',\n",
       "   'description': \"Control signal Register for 'ap_done'.\"},\n",
       "  'AP_IDLE': {'bit_offset': 2,\n",
       "   'bit_width': 1,\n",
       "   'access': 'read-only',\n",
       "   'description': \"Control signal Register for 'ap_idle'.\"},\n",
       "  'AP_READY': {'bit_offset': 3,\n",
       "   'bit_width': 1,\n",
       "   'access': 'read-only',\n",
       "   'description': \"Control signal Register for 'ap_ready'.\"},\n",
       "  'RESERVED_1': {'bit_offset': 4,\n",
       "   'bit_width': 3,\n",
       "   'access': 'read-only',\n",
       "   'description': 'Reserved.  0s on read.'},\n",
       "  'AUTO_RESTART': {'bit_offset': 7,\n",
       "   'bit_width': 1,\n",
       "   'access': 'read-write',\n",
       "   'description': \"Control signal Register for 'auto_restart'.\"},\n",
       "  'RESERVED_2': {'bit_offset': 8,\n",
       "   'bit_width': 24,\n",
       "   'access': 'read-only',\n",
       "   'description': 'Reserved.  0s on read.'}}}"
      ]
     },
     "execution_count": 33,
     "metadata": {
      "application/json": {
       "expanded": false,
       "root": "CTRL"
      }
     },
     "output_type": "execute_result"
    }
   ],
   "source": [
    "# displays the fields for the control register\n",
    "ol.ip_dict['lenet_cnn_0']['registers']['CTRL']"
   ]
  },
  {
   "cell_type": "code",
   "execution_count": 77,
   "id": "296d0b71",
   "metadata": {},
   "outputs": [
    {
     "data": {
      "application/json": {
       "access": "write-only",
       "address_offset": 16,
       "description": "Data signal of image_r",
       "fields": {
        "image_r": {
         "access": "write-only",
         "bit_offset": 0,
         "bit_width": 32,
         "description": "Bit 31 to 0 Data signal of image_r"
        }
       },
       "size": 32
      },
      "text/plain": [
       "{'address_offset': 16,\n",
       " 'size': 32,\n",
       " 'access': 'write-only',\n",
       " 'description': 'Data signal of image_r',\n",
       " 'fields': {'image_r': {'bit_offset': 0,\n",
       "   'bit_width': 32,\n",
       "   'access': 'write-only',\n",
       "   'description': 'Bit 31 to 0 Data signal of image_r'}}}"
      ]
     },
     "execution_count": 77,
     "metadata": {
      "application/json": {
       "expanded": false,
       "root": "image_r"
      }
     },
     "output_type": "execute_result"
    }
   ],
   "source": [
    "# displays the fields for the image pointer buffer register\n",
    "ol.ip_dict['lenet_cnn_0']['registers']['image_r']"
   ]
  },
  {
   "cell_type": "code",
   "execution_count": 59,
   "id": "be87ec19",
   "metadata": {},
   "outputs": [
    {
     "data": {
      "application/json": {
       "access": "write-only",
       "address_offset": 24,
       "description": "Data signal of parameters",
       "fields": {
        "parameters": {
         "access": "write-only",
         "bit_offset": 0,
         "bit_width": 32,
         "description": "Bit 31 to 0 Data signal of parameters"
        }
       },
       "size": 32
      },
      "text/plain": [
       "{'address_offset': 24,\n",
       " 'size': 32,\n",
       " 'access': 'write-only',\n",
       " 'description': 'Data signal of parameters',\n",
       " 'fields': {'parameters': {'bit_offset': 0,\n",
       "   'bit_width': 32,\n",
       "   'access': 'write-only',\n",
       "   'description': 'Bit 31 to 0 Data signal of parameters'}}}"
      ]
     },
     "execution_count": 59,
     "metadata": {
      "application/json": {
       "expanded": false,
       "root": "parameters"
      }
     },
     "output_type": "execute_result"
    }
   ],
   "source": [
    "# displays the fields for the parameters pointer buffer register\n",
    "ol.ip_dict['lenet_cnn_0']['registers']['parameters']"
   ]
  },
  {
   "cell_type": "code",
   "execution_count": 60,
   "id": "b855bb2e",
   "metadata": {},
   "outputs": [
    {
     "data": {
      "application/json": {
       "access": "write-only",
       "address_offset": 32,
       "description": "Data signal of fc6_output",
       "fields": {
        "fc6_output": {
         "access": "write-only",
         "bit_offset": 0,
         "bit_width": 32,
         "description": "Bit 31 to 0 Data signal of fc6_output"
        }
       },
       "size": 32
      },
      "text/plain": [
       "{'address_offset': 32,\n",
       " 'size': 32,\n",
       " 'access': 'write-only',\n",
       " 'description': 'Data signal of fc6_output',\n",
       " 'fields': {'fc6_output': {'bit_offset': 0,\n",
       "   'bit_width': 32,\n",
       "   'access': 'write-only',\n",
       "   'description': 'Bit 31 to 0 Data signal of fc6_output'}}}"
      ]
     },
     "execution_count": 60,
     "metadata": {
      "application/json": {
       "expanded": false,
       "root": "fc6_output"
      }
     },
     "output_type": "execute_result"
    }
   ],
   "source": [
    "# displays the fields for the fc6_output pointer buffer register\n",
    "ol.ip_dict['lenet_cnn_0']['registers']['fc6_output']"
   ]
  },
  {
   "cell_type": "code",
   "execution_count": 49,
   "id": "645f1547",
   "metadata": {},
   "outputs": [],
   "source": [
    "def read_parameters():\n",
    "    f = open(\"params.bin\", mode=\"rb\")\n",
    "\n",
    "    # Reading file data with read() method\n",
    "    data = f.read()\n",
    "\n",
    "    data_fp = []\n",
    "\n",
    "    # parses every 4 bytes as a floating point value\n",
    "    for i in range(0, len(data), 4):\n",
    "        fp_num = struct.unpack('f', data[i:i + 4])\n",
    "        data_fp.append(fp_num[0])\n",
    "\n",
    "    parameters_data = np.array(data_fp)\n",
    "\n",
    "    # Closing the opened file\n",
    "    f.close()\n",
    "    \n",
    "    return parameters_data\n",
    "\n",
    "def read_images():\n",
    "    f = open(\"images.bin\", mode=\"rb\")\n",
    " \n",
    "    # Reading file data with read() method\n",
    "    data = f.read()\n",
    "\n",
    "    data_fp = []\n",
    "\n",
    "    # parses each byte as a char value\n",
    "    # skips the first 16 bytes as its a header\n",
    "    for i in range(16, len(data)):\n",
    "        char_num = data[i]\n",
    "        data_fp.append(char_num)\n",
    "\n",
    "    images_data = np.array(data_fp)\n",
    "\n",
    "    # Closing the opened file\n",
    "    f.close()\n",
    "    \n",
    "    return images_data\n",
    "\n",
    "def read_labels():\n",
    "    f = open(\"labels.bin\", mode=\"rb\")\n",
    " \n",
    "    # Reading file data with read() method\n",
    "    data = f.read()\n",
    "    \n",
    "    data_fp = []\n",
    "\n",
    "    # parses each byte as a char value\n",
    "    # skips the first 8 bytes as its a header\n",
    "    for i in range(8, len(data)):\n",
    "        char_num = data[i]\n",
    "        data_fp.append(char_num)\n",
    "\n",
    "    labels_data = np.array(data_fp)\n",
    "\n",
    "    # Closing the opened file\n",
    "    f.close()\n",
    "    \n",
    "    return labels_data"
   ]
  },
  {
   "cell_type": "code",
   "execution_count": 50,
   "id": "d810e220",
   "metadata": {},
   "outputs": [],
   "source": [
    "# read the parameters, images, and labels\n",
    "parameters_data = read_parameters()\n",
    "images_data = read_images()\n",
    "labels_data = read_labels()"
   ]
  },
  {
   "cell_type": "code",
   "execution_count": 52,
   "id": "3d4ae103",
   "metadata": {},
   "outputs": [
    {
     "name": "stdout",
     "output_type": "stream",
     "text": [
      "51902\n",
      "7840000\n",
      "10000\n"
     ]
    }
   ],
   "source": [
    "print(len(parameters_data))\n",
    "print(len(images_data))\n",
    "print(len(labels_data))"
   ]
  },
  {
   "cell_type": "code",
   "execution_count": 53,
   "id": "b1109da1",
   "metadata": {},
   "outputs": [],
   "source": [
    "# allocates the buffers for the parameters, image, and the fully-connected layer\n",
    "parameters_size = 51902\n",
    "parameters = allocate(shape=(parameters_size,), dtype=np.single)\n",
    "\n",
    "image_size = 32 * 32\n",
    "image = allocate(shape=(image_size,), dtype=np.single)\n",
    "\n",
    "data_size = 10\n",
    "fc6_output = allocate(shape=(data_size,), dtype=np.single)"
   ]
  },
  {
   "cell_type": "code",
   "execution_count": 54,
   "id": "4d030234",
   "metadata": {},
   "outputs": [],
   "source": [
    "# initializes the parameters buffer with the weights and biases from the trained model\n",
    "for i in range(len(parameters_data)):\n",
    "    parameters[i] = parameters_data[i]"
   ]
  },
  {
   "cell_type": "code",
   "execution_count": 55,
   "id": "f32b5e9b",
   "metadata": {},
   "outputs": [],
   "source": [
    "def get_image(images, idx):\n",
    "    image = np.zeros((1, 32, 32))\n",
    "    \n",
    "    # pads the 28 * 28 image with 2 pixel values of -1 as an outer boarder\n",
    "    for i in range(32):\n",
    "        for j in range(32):\n",
    "            if i < 2 or i > 29 or j < 2 or j > 29:\n",
    "                image[0, i, j] = -1.0\n",
    "            else:\n",
    "                image[0, i, j] = images[idx * 28 * 28 + (i - 2) * 28 + j - 2] / 255.0 * 2.0 - 1.0\n",
    "    \n",
    "    return image"
   ]
  },
  {
   "cell_type": "code",
   "execution_count": 56,
   "id": "219e145d",
   "metadata": {},
   "outputs": [],
   "source": [
    "def verify_model():\n",
    "    # sets the address of the buffers for the inputs to the accelerator\n",
    "    ol.lenet_cnn_0.write(16, image.physical_address)\n",
    "    ol.lenet_cnn_0.write(24, parameters.physical_address)\n",
    "    ol.lenet_cnn_0.write(32, fc6_output.physical_address)\n",
    "    \n",
    "    num_correct = 0\n",
    "    \n",
    "    for k in range(10000):\n",
    "        # get the image from the dataset\n",
    "        image_temp = get_image(images_data, k)\n",
    "\n",
    "        for i in range(32):\n",
    "            for j in range(32):\n",
    "                image[i * 32 + j] = image_temp[0, i, j]\n",
    "                \n",
    "        # sets the start bit to start the accelerator\n",
    "        ol.lenet_cnn_0.write(0, 1)\n",
    "        \n",
    "        # wait until the accelerator is done\n",
    "        while ol.lenet_cnn_0.read(0) & 0x00000002 != 0x2:\n",
    "            pass\n",
    "        \n",
    "        # result is the argmax of the fully-connected layer output\n",
    "        result = np.argmax(fc6_output)\n",
    "        \n",
    "        # compare with the labels\n",
    "        if result == labels_data[k]:\n",
    "            num_correct += 1\n",
    "        \n",
    "        if k % 250 == 0:\n",
    "            print(\"Test images:\", k)\n",
    "    \n",
    "    # determine the final accuracy\n",
    "    print(\"Correct:\", num_correct, \"Accuracy =\", num_correct / 100, \"%\")"
   ]
  },
  {
   "cell_type": "code",
   "execution_count": 57,
   "id": "5f7d552e",
   "metadata": {},
   "outputs": [
    {
     "name": "stdout",
     "output_type": "stream",
     "text": [
      "Test images: 0\n",
      "Test images: 250\n",
      "Test images: 500\n",
      "Test images: 750\n",
      "Test images: 1000\n",
      "Test images: 1250\n",
      "Test images: 1500\n",
      "Test images: 1750\n",
      "Test images: 2000\n",
      "Test images: 2250\n",
      "Test images: 2500\n",
      "Test images: 2750\n",
      "Test images: 3000\n",
      "Test images: 3250\n",
      "Test images: 3500\n",
      "Test images: 3750\n",
      "Test images: 4000\n",
      "Test images: 4250\n",
      "Test images: 4500\n",
      "Test images: 4750\n",
      "Test images: 5000\n",
      "Test images: 5250\n",
      "Test images: 5500\n",
      "Test images: 5750\n",
      "Test images: 6000\n",
      "Test images: 6250\n",
      "Test images: 6500\n",
      "Test images: 6750\n",
      "Test images: 7000\n",
      "Test images: 7250\n",
      "Test images: 7500\n",
      "Test images: 7750\n",
      "Test images: 8000\n",
      "Test images: 8250\n",
      "Test images: 8500\n",
      "Test images: 8750\n",
      "Test images: 9000\n",
      "Test images: 9250\n",
      "Test images: 9500\n",
      "Test images: 9750\n",
      "Correct: 9811 Accuracy = 98.11 %\n"
     ]
    }
   ],
   "source": [
    "verify_model()"
   ]
  },
  {
   "cell_type": "code",
   "execution_count": null,
   "id": "94b4f565",
   "metadata": {},
   "outputs": [],
   "source": []
  }
 ],
 "metadata": {
  "kernelspec": {
   "display_name": "Python 3 (ipykernel)",
   "language": "python",
   "name": "python3"
  },
  "language_info": {
   "codemirror_mode": {
    "name": "ipython",
    "version": 3
   },
   "file_extension": ".py",
   "mimetype": "text/x-python",
   "name": "python",
   "nbconvert_exporter": "python",
   "pygments_lexer": "ipython3",
   "version": "3.10.4"
  }
 },
 "nbformat": 4,
 "nbformat_minor": 5
}
